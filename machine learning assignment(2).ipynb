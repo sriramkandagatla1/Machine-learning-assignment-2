{
 "cells": [
  {
   "cell_type": "code",
   "execution_count": 20,
   "id": "b9f86d2a",
   "metadata": {},
   "outputs": [
    {
     "name": "stdout",
     "output_type": "stream",
     "text": [
      "5\n",
      "* \n",
      "* * \n",
      "* * * \n",
      "* * * * \n",
      "* * * * * \n",
      "* * * * \n",
      "* * * \n",
      "* * \n",
      "* \n"
     ]
    }
   ],
   "source": [
    "n=int(input())#enter input for number of rows\n",
    "\n",
    "for i in range(1,n+1):\n",
    "    for j in range(i):\n",
    "        print(\"*\", end=\" \")\n",
    "    print(\"\")\n",
    "\n",
    "for i in range(n-1,0,-1): \n",
    "    for j in range(i):\n",
    "        print('*', end=\" \")\n",
    "    print(\"\")"
   ]
  },
  {
   "cell_type": "code",
   "execution_count": 13,
   "id": "421f068f",
   "metadata": {},
   "outputs": [
    {
     "name": "stdout",
     "output_type": "stream",
     "text": [
      "[20, 40, 60, 80, 100]\n"
     ]
    }
   ],
   "source": [
    "my_list = [10, 20, 30, 40, 50, 60, 70, 80, 90, 100]\n",
    "y=[]#Declaring an array\n",
    "for i in my_list[1::2]:#finding odd number in list\n",
    "    y.append(i)#Adding to y\n",
    "print(y)#printing odd numbers from the list"
   ]
  },
  {
   "cell_type": "code",
   "execution_count": 21,
   "id": "f13413bd",
   "metadata": {},
   "outputs": [
    {
     "name": "stdout",
     "output_type": "stream",
     "text": [
      "[23, 'python', 23.98]\n",
      "[<class 'int'>, <class 'str'>, <class 'float'>]\n"
     ]
    }
   ],
   "source": [
    "x=[23,'python',23.98]\n",
    "y=[]#Declaring an array\n",
    "for i in x:\n",
    "    y.append(type(i))#finding type of elements of x and adding to y\n",
    "print(x)\n",
    "print(y)"
   ]
  },
  {
   "cell_type": "code",
   "execution_count": 28,
   "id": "1ae23a2f",
   "metadata": {},
   "outputs": [
    {
     "name": "stdout",
     "output_type": "stream",
     "text": [
      "enter the length of the number:8\n",
      "1\n",
      "2\n",
      "3\n",
      "3\n",
      "3\n",
      "3\n",
      "4\n",
      "5\n",
      "unique list is: [1, 2, 3, 4, 5]\n"
     ]
    }
   ],
   "source": [
    "def unique(s1):#Declaration of unique function\n",
    "    x=list(set(s1))#converting input list into set for elimination of duplicate numbers\n",
    "    print(\"unique list is:\",x)\n",
    "s2=[]\n",
    "n=int(input(\"enter the length of the number:\"))\n",
    "for i in range(0,n):\n",
    "    s1=int(input())#taking dynamic input from user\n",
    "    s2.append(s1)#appending s1 to s2\n",
    "unique(s2)#calling the function"
   ]
  },
  {
   "cell_type": "code",
   "execution_count": 32,
   "id": "6b524c42",
   "metadata": {},
   "outputs": [
    {
     "name": "stdout",
     "output_type": "stream",
     "text": [
      "enter a string:The quick Brow Fox\n",
      "No.of Upper-case characters:  3\n",
      "No.of Lower-case characters:  12\n"
     ]
    }
   ],
   "source": [
    "n=input(\"enter a string:\")#taking the string as input\n",
    "\n",
    "n=n.replace(\"\",\"\")\n",
    "\n",
    "ucount=0\n",
    "\n",
    "icount=0\n",
    "\n",
    "for i in n:\n",
    "\n",
    "    if i.isupper():#finding the letter is upper case or not\n",
    "\n",
    "        ucount=ucount+1#if yes incrementing the ucount\n",
    "\n",
    "    if(i.islower()):\n",
    "\n",
    "        icount=icount+1#if lower letter incrementing the icount\n",
    "\n",
    "print(\"No.of Upper-case characters: \", ucount)\n",
    "print(\"No.of Lower-case characters: \",icount)"
   ]
  },
  {
   "cell_type": "code",
   "execution_count": null,
   "id": "aeee5146",
   "metadata": {},
   "outputs": [],
   "source": []
  },
  {
   "cell_type": "code",
   "execution_count": null,
   "id": "5f9ce725",
   "metadata": {},
   "outputs": [],
   "source": []
  }
 ],
 "metadata": {
  "kernelspec": {
   "display_name": "Python 3 (ipykernel)",
   "language": "python",
   "name": "python3"
  },
  "language_info": {
   "codemirror_mode": {
    "name": "ipython",
    "version": 3
   },
   "file_extension": ".py",
   "mimetype": "text/x-python",
   "name": "python",
   "nbconvert_exporter": "python",
   "pygments_lexer": "ipython3",
   "version": "3.11.1"
  }
 },
 "nbformat": 4,
 "nbformat_minor": 5
}
